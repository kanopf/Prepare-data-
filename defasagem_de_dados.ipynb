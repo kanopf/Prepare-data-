{
  "nbformat": 4,
  "nbformat_minor": 0,
  "metadata": {
    "colab": {
      "name": "defasagem de dados",
      "provenance": [],
      "authorship_tag": "ABX9TyOHpy7dRCvrASCzlB4g1N0h",
      "include_colab_link": true
    },
    "kernelspec": {
      "name": "python3",
      "display_name": "Python 3"
    }
  },
  "cells": [
    {
      "cell_type": "markdown",
      "metadata": {
        "id": "view-in-github",
        "colab_type": "text"
      },
      "source": [
        "<a href=\"https://colab.research.google.com/github/kanopf/Prepare-data-/blob/main/defasagem_de_dados.ipynb\" target=\"_parent\"><img src=\"https://colab.research.google.com/assets/colab-badge.svg\" alt=\"Open In Colab\"/></a>"
      ]
    },
    {
      "cell_type": "markdown",
      "metadata": {
        "id": "nqLRXxMzwc2U"
      },
      "source": [
        "**ESTUDO DE DEFASAGEM DE DADOS PARA UTILIZAÇÃO EM SÉRIES TEMPORAIS**\n",
        "\n",
        "Aqui damos como entrada um Pandas DataFrame e criamos as matrizes dataX, dataY com a defasagem \"look_back\" para as previsões seguirem este padrão."
      ]
    },
    {
      "cell_type": "code",
      "metadata": {
        "id": "eNfBVbz5BC8g",
        "outputId": "fa8f3a0b-47b3-4121-fd7c-63ac0dd4648c",
        "colab": {
          "base_uri": "https://localhost:8080/",
          "height": 170
        }
      },
      "source": [
        "import pandas as pd\n",
        "\n",
        "dataset = pd.DataFrame([0,1,2,3,4,5,6,7,8,9])\n",
        "\n",
        "dataset= dataset.values\n",
        "\n",
        "dataX=[]\n",
        "dataY =[]\n",
        "\n",
        "look_back = 3\n",
        "\n",
        "for i in range (len(dataset)-look_back):\n",
        "  \n",
        "  a = dataset[i:(i+look_back), 0]\n",
        "  print(a)\n",
        "  dataX.append(dataset[i + look_back, 0])\n",
        "  dataY.append(a)\n",
        "  \n",
        "print(dataX)\n",
        "print(dataY)"
      ],
      "execution_count": null,
      "outputs": [
        {
          "output_type": "stream",
          "text": [
            "[0 1 2]\n",
            "[1 2 3]\n",
            "[2 3 4]\n",
            "[3 4 5]\n",
            "[4 5 6]\n",
            "[5 6 7]\n",
            "[6 7 8]\n",
            "[3, 4, 5, 6, 7, 8, 9]\n",
            "[array([0, 1, 2]), array([1, 2, 3]), array([2, 3, 4]), array([3, 4, 5]), array([4, 5, 6]), array([5, 6, 7]), array([6, 7, 8])]\n"
          ],
          "name": "stdout"
        }
      ]
    }
  ]
}